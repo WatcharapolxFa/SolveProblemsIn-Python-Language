{
 "cells": [
  {
   "cell_type": "code",
   "execution_count": 51,
   "metadata": {},
   "outputs": [],
   "source": [
    "from turtle import *"
   ]
  },
  {
   "cell_type": "code",
   "execution_count": 52,
   "metadata": {},
   "outputs": [],
   "source": [
    "shape(\"turtle\")\n",
    "speed(6)\n",
    "goto(0 , 0)\n",
    "lt(90)\n",
    "forward(200)\n",
    "lt(90)\n",
    "forward(60)\n",
    "backward(120)\n",
    "forward(60)\n",
    "lt(90)\n",
    "forward(200)\n",
    "rt(90)\n",
    "forward(60)\n",
    "backward(120)\n",
    "penup()\n",
    "goto(100 , 0)\n",
    "rt(90)\n"
   ]
  },
  {
   "cell_type": "code",
   "execution_count": 53,
   "metadata": {},
   "outputs": [],
   "source": [
    "pendown()\n",
    "forward(200)\n",
    "rt(90)\n",
    "rt(70)\n",
    "forward(210)\n",
    "lt(160)\n",
    "forward(200)\n",
    "\n",
    "penup()\n",
    "goto(200 , 0)"
   ]
  },
  {
   "cell_type": "code",
   "execution_count": 54,
   "metadata": {},
   "outputs": [],
   "source": [
    "pendown()\n",
    "rt(15)\n",
    "forward(200)\n",
    "rt(150)\n",
    "forward(200)\n",
    "back(80)\n",
    "lt(75)\n",
    "backward(62)\n",
    "penup()\n",
    "goto(330 , 0)\n"
   ]
  },
  {
   "cell_type": "code",
   "execution_count": 55,
   "metadata": {},
   "outputs": [
    {
     "ename": "",
     "evalue": "",
     "output_type": "error",
     "traceback": [
      "\u001b[1;31mThe Kernel crashed while executing code in the the current cell or a previous cell. Please review the code in the cell(s) to identify a possible cause of the failure. Click <a href='https://aka.ms/vscodeJupyterKernelCrash'>here</a> for more info. View Jupyter <a href='command:jupyter.viewOutput'>log</a> for further details."
     ]
    }
   ],
   "source": [
    "pendown()\n",
    "lt(75)\n",
    "forward(200)\n",
    "rt(150)\n",
    "forward(200)\n",
    "lt(150)\n",
    "forward(200)\n",
    "rt(150)\n",
    "forward(200)\n",
    "done()\n",
    "\n",
    "# penup()\n",
    "# goto(330 , 0)"
   ]
  }
 ],
 "metadata": {
  "kernelspec": {
   "display_name": "Python 3.9.13 ('DevMode')",
   "language": "python",
   "name": "python3"
  },
  "language_info": {
   "codemirror_mode": {
    "name": "ipython",
    "version": 3
   },
   "file_extension": ".py",
   "mimetype": "text/x-python",
   "name": "python",
   "nbconvert_exporter": "python",
   "pygments_lexer": "ipython3",
   "version": "3.9.13"
  },
  "orig_nbformat": 4,
  "vscode": {
   "interpreter": {
    "hash": "8302e9bd15ee8374d46ceae5cbc5e07ae73872e42d0bbd477742d6530714d25e"
   }
  }
 },
 "nbformat": 4,
 "nbformat_minor": 2
}
