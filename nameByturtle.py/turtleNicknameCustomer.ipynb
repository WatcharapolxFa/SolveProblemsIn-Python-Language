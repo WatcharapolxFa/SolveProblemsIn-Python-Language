{
 "cells": [
  {
   "cell_type": "code",
   "execution_count": 1,
   "metadata": {},
   "outputs": [],
   "source": [
    "from turtle import *"
   ]
  },
  {
   "cell_type": "code",
   "execution_count": 2,
   "metadata": {},
   "outputs": [],
   "source": [
    "#draw I\n",
    "shape(\"turtle\")\n",
    "speed(6)\n",
    "goto(0 , 0)\n",
    "lt(90)\n",
    "forward(200)\n",
    "lt(90)\n",
    "forward(60)\n",
    "backward(120)\n",
    "forward(60)\n",
    "lt(90)\n",
    "forward(200)\n",
    "rt(90)\n",
    "forward(60)\n",
    "backward(120)\n",
    "penup()\n",
    "goto(100 , 0)\n",
    "rt(90)\n"
   ]
  },
  {
   "cell_type": "code",
   "execution_count": 3,
   "metadata": {},
   "outputs": [],
   "source": [
    "#draw N\n",
    "pendown()\n",
    "forward(200)\n",
    "rt(90)\n",
    "rt(70)\n",
    "forward(210)\n",
    "lt(160)\n",
    "forward(200)\n",
    "\n",
    "penup()\n",
    "goto(200 , 0)"
   ]
  },
  {
   "cell_type": "code",
   "execution_count": 4,
   "metadata": {},
   "outputs": [],
   "source": [
    "#draw A\n",
    "pendown()\n",
    "rt(15)\n",
    "forward(200)\n",
    "rt(150)\n",
    "forward(200)\n",
    "back(80)\n",
    "lt(75)\n",
    "backward(62)\n",
    "penup()\n",
    "goto(330 , 0)\n"
   ]
  },
  {
   "cell_type": "code",
   "execution_count": 5,
   "metadata": {},
   "outputs": [
    {
     "ename": "KeyboardInterrupt",
     "evalue": "",
     "output_type": "error",
     "traceback": [
      "\u001b[0;31m---------------------------------------------------------------------------\u001b[0m",
      "\u001b[0;31mKeyboardInterrupt\u001b[0m                         Traceback (most recent call last)",
      "\u001b[1;32m/Users/yotadeewatcharapol/Desktop/SolveProblemsIn-Python-Language/nameByturtle.py/turtleNicknameCustomer.ipynb Cell 5\u001b[0m in \u001b[0;36m<cell line: 11>\u001b[0;34m()\u001b[0m\n\u001b[1;32m      <a href='vscode-notebook-cell:/Users/yotadeewatcharapol/Desktop/SolveProblemsIn-Python-Language/nameByturtle.py/turtleNicknameCustomer.ipynb#W4sZmlsZQ%3D%3D?line=8'>9</a>\u001b[0m rt(\u001b[39m150\u001b[39m)\n\u001b[1;32m     <a href='vscode-notebook-cell:/Users/yotadeewatcharapol/Desktop/SolveProblemsIn-Python-Language/nameByturtle.py/turtleNicknameCustomer.ipynb#W4sZmlsZQ%3D%3D?line=9'>10</a>\u001b[0m forward(\u001b[39m200\u001b[39m)\n\u001b[0;32m---> <a href='vscode-notebook-cell:/Users/yotadeewatcharapol/Desktop/SolveProblemsIn-Python-Language/nameByturtle.py/turtleNicknameCustomer.ipynb#W4sZmlsZQ%3D%3D?line=10'>11</a>\u001b[0m done()\n",
      "File \u001b[0;32m<string>:8\u001b[0m, in \u001b[0;36mmainloop\u001b[0;34m()\u001b[0m\n",
      "File \u001b[0;32m~/opt/anaconda3/envs/DevMode/lib/python3.9/turtle.py:812\u001b[0m, in \u001b[0;36mTurtleScreenBase.mainloop\u001b[0;34m(self)\u001b[0m\n\u001b[1;32m    799\u001b[0m \u001b[39mdef\u001b[39;00m \u001b[39mmainloop\u001b[39m(\u001b[39mself\u001b[39m):\n\u001b[1;32m    800\u001b[0m     \u001b[39m\"\"\"Starts event loop - calling Tkinter's mainloop function.\u001b[39;00m\n\u001b[1;32m    801\u001b[0m \n\u001b[1;32m    802\u001b[0m \u001b[39m    No argument.\u001b[39;00m\n\u001b[0;32m   (...)\u001b[0m\n\u001b[1;32m    810\u001b[0m \n\u001b[1;32m    811\u001b[0m \u001b[39m    \"\"\"\u001b[39;00m\n\u001b[0;32m--> 812\u001b[0m     \u001b[39mself\u001b[39;49m\u001b[39m.\u001b[39;49mcv\u001b[39m.\u001b[39;49mtk\u001b[39m.\u001b[39;49mmainloop()\n",
      "\u001b[0;31mKeyboardInterrupt\u001b[0m: "
     ]
    },
    {
     "ename": "",
     "evalue": "",
     "output_type": "error",
     "traceback": [
      "\u001b[1;31mThe Kernel crashed while executing code in the the current cell or a previous cell. Please review the code in the cell(s) to identify a possible cause of the failure. Click <a href='https://aka.ms/vscodeJupyterKernelCrash'>here</a> for more info. View Jupyter <a href='command:jupyter.viewOutput'>log</a> for further details."
     ]
    }
   ],
   "source": [
    "#draw M\n",
    "pendown()\n",
    "lt(75)\n",
    "forward(200)\n",
    "rt(150)\n",
    "forward(200)\n",
    "lt(150)\n",
    "forward(200)\n",
    "rt(150)\n",
    "forward(200)\n",
    "done()"
   ]
  }
 ],
 "metadata": {
  "kernelspec": {
   "display_name": "Python 3.9.13 ('DevMode')",
   "language": "python",
   "name": "python3"
  },
  "language_info": {
   "codemirror_mode": {
    "name": "ipython",
    "version": 3
   },
   "file_extension": ".py",
   "mimetype": "text/x-python",
   "name": "python",
   "nbconvert_exporter": "python",
   "pygments_lexer": "ipython3",
   "version": "3.9.13"
  },
  "orig_nbformat": 4,
  "vscode": {
   "interpreter": {
    "hash": "8302e9bd15ee8374d46ceae5cbc5e07ae73872e42d0bbd477742d6530714d25e"
   }
  }
 },
 "nbformat": 4,
 "nbformat_minor": 2
}
