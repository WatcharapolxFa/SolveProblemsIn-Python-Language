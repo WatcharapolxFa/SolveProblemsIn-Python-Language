{
 "cells": [
  {
   "cell_type": "code",
   "execution_count": null,
   "metadata": {},
   "outputs": [],
   "source": [
    "from turtle import *"
   ]
  },
  {
   "cell_type": "code",
   "execution_count": null,
   "metadata": {},
   "outputs": [],
   "source": [
    "#draw I\n",
    "shape(\"turtle\")\n",
    "speed(6)\n",
    "goto(0 , 0)\n",
    "lt(90)\n",
    "forward(200)\n",
    "lt(90)\n",
    "forward(60)\n",
    "backward(120)\n",
    "forward(60)\n",
    "lt(90)\n",
    "forward(200)\n",
    "rt(90)\n",
    "forward(60)\n",
    "backward(120)\n",
    "penup()\n",
    "goto(100 , 0)\n",
    "rt(90)\n"
   ]
  },
  {
   "cell_type": "code",
   "execution_count": null,
   "metadata": {},
   "outputs": [],
   "source": [
    "#draw N\n",
    "pendown()\n",
    "forward(200)\n",
    "rt(90)\n",
    "rt(70)\n",
    "forward(210)\n",
    "lt(160)\n",
    "forward(200)\n",
    "\n",
    "penup()\n",
    "goto(200 , 0)"
   ]
  },
  {
   "cell_type": "code",
   "execution_count": null,
   "metadata": {},
   "outputs": [],
   "source": [
    "#draw A\n",
    "pendown()\n",
    "rt(15)\n",
    "forward(200)\n",
    "rt(150)\n",
    "forward(200)\n",
    "back(80)\n",
    "lt(75)\n",
    "backward(62)\n",
    "penup()\n",
    "goto(330 , 0)\n"
   ]
  },
  {
   "cell_type": "code",
   "execution_count": null,
   "metadata": {},
   "outputs": [],
   "source": [
    "#draw M\n",
    "pendown()\n",
    "lt(75)\n",
    "forward(200)\n",
    "rt(150)\n",
    "forward(200)\n",
    "lt(150)\n",
    "forward(200)\n",
    "rt(150)\n",
    "forward(200)\n",
    "done()"
   ]
  }
 ],
 "metadata": {
  "kernelspec": {
   "display_name": "Python 3.9.13 ('DevMode')",
   "language": "python",
   "name": "python3"
  },
  "language_info": {
   "codemirror_mode": {
    "name": "ipython",
    "version": 3
   },
   "file_extension": ".py",
   "mimetype": "text/x-python",
   "name": "python",
   "nbconvert_exporter": "python",
   "pygments_lexer": "ipython3",
   "version": "3.9.13"
  },
  "orig_nbformat": 4,
  "vscode": {
   "interpreter": {
    "hash": "8302e9bd15ee8374d46ceae5cbc5e07ae73872e42d0bbd477742d6530714d25e"
   }
  }
 },
 "nbformat": 4,
 "nbformat_minor": 2
}
